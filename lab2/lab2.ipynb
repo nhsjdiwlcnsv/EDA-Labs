{
 "cells": [
  {
   "cell_type": "markdown",
   "id": "f048e3a8-4f01-4add-8092-a520f988c855",
   "metadata": {},
   "source": [
    "# Literature, innit? 🇬🇧🇬🇧🔥🔥🔥🗣️🗣️🗣️🇬🇧🇬🇧🔊🔊🔊\n",
    "\n",
    "- [И. П. Костенко, Выравнивание статистических рядов. Проверка правдоподобия\n",
    "гипотез, Матем. обр., 2008, выпуск 2, 50–71](https://www.mathnet.ru/links/7ff4e9240bd69389f655a231338fdf4f/mo80.pdf) – материал, который давался на лабе, очень похож на эти слайды\n",
    "- [Выравнивание статистических рядов](https://studfile.net/preview/3208238/page:4/)\n",
    "- [Норм видос по Пирсону](https://www.youtube.com/watch?v=hvBHyDm4biM)"
   ]
  },
  {
   "cell_type": "markdown",
   "id": "b51933d0-b442-4a79-bfd1-3df5d3562d47",
   "metadata": {},
   "source": [
    "# Prepare notebook for running"
   ]
  },
  {
   "cell_type": "markdown",
   "id": "f7f5908a-a2c6-49ba-ba8e-69edf0640548",
   "metadata": {},
   "source": [
    "## Install and import required packages, set plotting theme"
   ]
  },
  {
   "cell_type": "code",
   "execution_count": 1,
   "id": "e0ae6eec-33c9-48f7-adad-8e1155cc3ff2",
   "metadata": {},
   "outputs": [],
   "source": [
    "import sys"
   ]
  },
  {
   "cell_type": "code",
   "execution_count": 2,
   "id": "eb3c4490-6799-4039-9baa-0be13dec08dd",
   "metadata": {},
   "outputs": [
    {
     "name": "stdout",
     "output_type": "stream",
     "text": [
      "\u001b[33mDEPRECATION: Loading egg at /opt/homebrew/Cellar/gpgme/1.23.2/lib/python3.12/site-packages/gpg-1.23.2-py3.12-macosx-14-arm64.egg is deprecated. pip 24.3 will enforce this behaviour change. A possible replacement is to use pip for package installation.. Discussion can be found at https://github.com/pypa/pip/issues/12330\u001b[0m\u001b[33m\n",
      "\u001b[0mRequirement already satisfied: asttokens==2.4.1 in /opt/homebrew/Cellar/jupyterlab/4.1.4/libexec/lib/python3.12/site-packages (from -r ../requirements.txt (line 1)) (2.4.1)\n",
      "Collecting comm==0.2.2 (from -r ../requirements.txt (line 2))\n",
      "  Using cached comm-0.2.2-py3-none-any.whl.metadata (3.7 kB)\n",
      "Requirement already satisfied: contourpy==1.2.1 in /opt/homebrew/Cellar/jupyterlab/4.1.4/libexec/lib/python3.12/site-packages (from -r ../requirements.txt (line 3)) (1.2.1)\n",
      "Requirement already satisfied: cycler==0.12.1 in /opt/homebrew/Cellar/jupyterlab/4.1.4/libexec/lib/python3.12/site-packages (from -r ../requirements.txt (line 4)) (0.12.1)\n",
      "Requirement already satisfied: decorator==5.1.1 in /opt/homebrew/Cellar/jupyterlab/4.1.4/libexec/lib/python3.12/site-packages (from -r ../requirements.txt (line 5)) (5.1.1)\n",
      "Requirement already satisfied: executing==2.0.1 in /opt/homebrew/Cellar/jupyterlab/4.1.4/libexec/lib/python3.12/site-packages (from -r ../requirements.txt (line 6)) (2.0.1)\n",
      "Requirement already satisfied: fonttools==4.51.0 in /opt/homebrew/Cellar/jupyterlab/4.1.4/libexec/lib/python3.12/site-packages (from -r ../requirements.txt (line 7)) (4.51.0)\n",
      "Collecting ipython==8.23.0 (from -r ../requirements.txt (line 8))\n",
      "  Using cached ipython-8.23.0-py3-none-any.whl.metadata (4.9 kB)\n",
      "Collecting ipywidgets==8.1.2 (from -r ../requirements.txt (line 9))\n",
      "  Using cached ipywidgets-8.1.2-py3-none-any.whl.metadata (2.4 kB)\n",
      "Requirement already satisfied: jedi==0.19.1 in /opt/homebrew/Cellar/jupyterlab/4.1.4/libexec/lib/python3.12/site-packages (from -r ../requirements.txt (line 10)) (0.19.1)\n",
      "Collecting jupyterlab_widgets==3.0.10 (from -r ../requirements.txt (line 11))\n",
      "  Using cached jupyterlab_widgets-3.0.10-py3-none-any.whl.metadata (4.1 kB)\n",
      "Requirement already satisfied: kiwisolver==1.4.5 in /opt/homebrew/Cellar/jupyterlab/4.1.4/libexec/lib/python3.12/site-packages (from -r ../requirements.txt (line 12)) (1.4.5)\n",
      "Requirement already satisfied: matplotlib==3.8.4 in /opt/homebrew/Cellar/jupyterlab/4.1.4/libexec/lib/python3.12/site-packages (from -r ../requirements.txt (line 13)) (3.8.4)\n",
      "Collecting matplotlib-inline==0.1.7 (from -r ../requirements.txt (line 14))\n",
      "  Using cached matplotlib_inline-0.1.7-py3-none-any.whl.metadata (3.9 kB)\n",
      "Requirement already satisfied: numpy==1.26.4 in /opt/homebrew/lib/python3.12/site-packages (from -r ../requirements.txt (line 15)) (1.26.4)\n",
      "Requirement already satisfied: packaging==24.0 in /opt/homebrew/Cellar/jupyterlab/4.1.4/libexec/lib/python3.12/site-packages (from -r ../requirements.txt (line 16)) (24.0)\n",
      "Requirement already satisfied: pandas==2.2.2 in /opt/homebrew/Cellar/jupyterlab/4.1.4/libexec/lib/python3.12/site-packages (from -r ../requirements.txt (line 17)) (2.2.2)\n",
      "Collecting parso==0.8.4 (from -r ../requirements.txt (line 18))\n",
      "  Using cached parso-0.8.4-py2.py3-none-any.whl.metadata (7.7 kB)\n",
      "Requirement already satisfied: pexpect==4.9.0 in /opt/homebrew/Cellar/jupyterlab/4.1.4/libexec/lib/python3.12/site-packages (from -r ../requirements.txt (line 19)) (4.9.0)\n",
      "Requirement already satisfied: pillow==10.3.0 in /opt/homebrew/Cellar/jupyterlab/4.1.4/libexec/lib/python3.12/site-packages (from -r ../requirements.txt (line 20)) (10.3.0)\n",
      "Requirement already satisfied: prompt-toolkit==3.0.43 in /opt/homebrew/Cellar/jupyterlab/4.1.4/libexec/lib/python3.12/site-packages (from -r ../requirements.txt (line 21)) (3.0.43)\n",
      "Requirement already satisfied: ptyprocess==0.7.0 in /opt/homebrew/Cellar/jupyterlab/4.1.4/libexec/lib/python3.12/site-packages (from -r ../requirements.txt (line 22)) (0.7.0)\n",
      "Requirement already satisfied: pure-eval==0.2.2 in /opt/homebrew/Cellar/jupyterlab/4.1.4/libexec/lib/python3.12/site-packages (from -r ../requirements.txt (line 23)) (0.2.2)\n",
      "Requirement already satisfied: pyarrow==15.0.2 in /opt/homebrew/Cellar/jupyterlab/4.1.4/libexec/lib/python3.12/site-packages (from -r ../requirements.txt (line 24)) (15.0.2)\n",
      "Requirement already satisfied: Pygments==2.17.2 in /opt/homebrew/Cellar/jupyterlab/4.1.4/libexec/lib/python3.12/site-packages (from -r ../requirements.txt (line 25)) (2.17.2)\n",
      "Requirement already satisfied: pyparsing==3.1.2 in /opt/homebrew/Cellar/jupyterlab/4.1.4/libexec/lib/python3.12/site-packages (from -r ../requirements.txt (line 26)) (3.1.2)\n",
      "Requirement already satisfied: python-dateutil==2.9.0.post0 in /opt/homebrew/Cellar/jupyterlab/4.1.4/libexec/lib/python3.12/site-packages (from -r ../requirements.txt (line 27)) (2.9.0.post0)\n",
      "Requirement already satisfied: pytz==2024.1 in /opt/homebrew/Cellar/jupyterlab/4.1.4/libexec/lib/python3.12/site-packages (from -r ../requirements.txt (line 28)) (2024.1)\n",
      "Requirement already satisfied: scipy==1.12.0 in /opt/homebrew/Cellar/jupyterlab/4.1.4/libexec/lib/python3.12/site-packages (from -r ../requirements.txt (line 29)) (1.12.0)\n",
      "Requirement already satisfied: seaborn==0.13.2 in /opt/homebrew/Cellar/jupyterlab/4.1.4/libexec/lib/python3.12/site-packages (from -r ../requirements.txt (line 30)) (0.13.2)\n",
      "Requirement already satisfied: six==1.16.0 in /opt/homebrew/Cellar/jupyterlab/4.1.4/libexec/lib/python3.12/site-packages (from -r ../requirements.txt (line 31)) (1.16.0)\n",
      "Requirement already satisfied: stack-data==0.6.3 in /opt/homebrew/Cellar/jupyterlab/4.1.4/libexec/lib/python3.12/site-packages (from -r ../requirements.txt (line 32)) (0.6.3)\n",
      "Requirement already satisfied: tqdm==4.66.2 in /opt/homebrew/Cellar/jupyterlab/4.1.4/libexec/lib/python3.12/site-packages (from -r ../requirements.txt (line 33)) (4.66.2)\n",
      "Collecting traitlets==5.14.2 (from -r ../requirements.txt (line 34))\n",
      "  Using cached traitlets-5.14.2-py3-none-any.whl.metadata (10 kB)\n",
      "Requirement already satisfied: tzdata==2024.1 in /opt/homebrew/Cellar/jupyterlab/4.1.4/libexec/lib/python3.12/site-packages (from -r ../requirements.txt (line 35)) (2024.1)\n",
      "Requirement already satisfied: wcwidth==0.2.13 in /opt/homebrew/Cellar/jupyterlab/4.1.4/libexec/lib/python3.12/site-packages (from -r ../requirements.txt (line 36)) (0.2.13)\n",
      "Collecting widgetsnbextension==4.0.10 (from -r ../requirements.txt (line 37))\n",
      "  Using cached widgetsnbextension-4.0.10-py3-none-any.whl.metadata (1.6 kB)\n",
      "Using cached comm-0.2.2-py3-none-any.whl (7.2 kB)\n",
      "Using cached ipython-8.23.0-py3-none-any.whl (814 kB)\n",
      "Using cached ipywidgets-8.1.2-py3-none-any.whl (139 kB)\n",
      "Using cached jupyterlab_widgets-3.0.10-py3-none-any.whl (215 kB)\n",
      "Using cached matplotlib_inline-0.1.7-py3-none-any.whl (9.9 kB)\n",
      "Using cached parso-0.8.4-py2.py3-none-any.whl (103 kB)\n",
      "Using cached traitlets-5.14.2-py3-none-any.whl (85 kB)\n",
      "Using cached widgetsnbextension-4.0.10-py3-none-any.whl (2.3 MB)\n",
      "Installing collected packages: widgetsnbextension, traitlets, parso, jupyterlab_widgets, matplotlib-inline, comm, ipython, ipywidgets\n",
      "  Attempting uninstall: traitlets\n",
      "    Found existing installation: traitlets 5.14.1\n",
      "    Uninstalling traitlets-5.14.1:\n",
      "      Successfully uninstalled traitlets-5.14.1\n",
      "  Attempting uninstall: parso\n",
      "    Found existing installation: parso 0.8.3\n",
      "    Uninstalling parso-0.8.3:\n",
      "      Successfully uninstalled parso-0.8.3\n",
      "  Attempting uninstall: matplotlib-inline\n",
      "    Found existing installation: matplotlib-inline 0.1.6\n",
      "    Uninstalling matplotlib-inline-0.1.6:\n",
      "      Successfully uninstalled matplotlib-inline-0.1.6\n",
      "  Attempting uninstall: comm\n",
      "    Found existing installation: comm 0.2.1\n",
      "    Uninstalling comm-0.2.1:\n",
      "      Successfully uninstalled comm-0.2.1\n",
      "  Attempting uninstall: ipython\n",
      "    Found existing installation: ipython 8.22.2\n",
      "    Uninstalling ipython-8.22.2:\n",
      "      Successfully uninstalled ipython-8.22.2\n",
      "Successfully installed comm-0.2.2 ipython-8.23.0 ipywidgets-8.1.2 jupyterlab_widgets-3.0.10 matplotlib-inline-0.1.7 parso-0.8.4 traitlets-5.14.2 widgetsnbextension-4.0.10\n"
     ]
    }
   ],
   "source": [
    "!{sys.executable} -m pip install -r \"../requirements.txt\""
   ]
  },
  {
   "cell_type": "code",
   "execution_count": 33,
   "id": "cc9ff6e4-4594-4c36-a46e-42e5a173a496",
   "metadata": {},
   "outputs": [],
   "source": [
    "import os\n",
    "from typing import Callable\n",
    "from IPython.display import display\n",
    "\n",
    "import numpy as np\n",
    "from scipy import stats\n",
    "import pandas as pd\n",
    "import seaborn as sns\n",
    "import matplotlib.pyplot as plt"
   ]
  },
  {
   "cell_type": "code",
   "execution_count": 4,
   "id": "f9550788-021a-4d4e-9daa-80d7fbd858f5",
   "metadata": {},
   "outputs": [],
   "source": [
    "sns.set_theme()\n",
    "np.random.seed(42)"
   ]
  },
  {
   "cell_type": "markdown",
   "id": "75c8fa12-99aa-4bb6-bbab-72be73aa5a10",
   "metadata": {},
   "source": [
    "## Set up constants and preprocess dataset files"
   ]
  },
  {
   "cell_type": "code",
   "execution_count": 723,
   "id": "90c6c72a-a023-42d6-a08a-d325cd22224d",
   "metadata": {},
   "outputs": [],
   "source": [
    "MAKE_PANDAS_LIKE_FILES: bool = False  # Set to True/False if your .csv files aren't/are pandas-friendly\n",
    "# Change location if needed\n",
    "ORIGINAL_FILE_PATHS: list[str] = ['../data/set_1.csv', '../data/set_2.csv', '../data/set_3.csv']\n",
    "PANDAS_FILE_PATHS: list[str] = list(map(\n",
    "    lambda path: os.path.join(os.getcwd(), path), \n",
    "    ['data/set_1.csv', 'data/set_2.csv', 'data/set_3.csv']\n",
    "))\n",
    "VALUE_COL: str = \"value\"\n",
    "ALPHA: str = \"0.05\"\n",
    "K_S_COEF: float = 1.3581\n",
    "CHI_SQUARED_CRITICAL_VALUE: float = 67.505"
   ]
  },
  {
   "cell_type": "code",
   "execution_count": 724,
   "id": "387e4dc1-9af0-4cbf-9a0b-4f935ce5d6ed",
   "metadata": {},
   "outputs": [],
   "source": [
    "if MAKE_PANDAS_LIKE_FILES:\n",
    "    for of, pf in zip(ORIGINAL_FILE_PATHS, PANDAS_FILE_PATHS):\n",
    "        with open(of, 'r') as f:\n",
    "            df = pd.DataFrame(list(map(float, f.read().split(','))))\n",
    "        df.to_csv(pf, index=False)"
   ]
  },
  {
   "cell_type": "markdown",
   "id": "d819d016-5d59-4f93-9438-84f3b60fb162",
   "metadata": {},
   "source": [
    "## Obtain Kolmogorov-Smirnov test table\n",
    "Here, row with ``n`` = 51 means that values greater than 50 should be computed by dividing corresponding table cell by ``n``, for instance: $h = \\frac{1.3581}{\\sqrt{n}}$."
   ]
  },
  {
   "cell_type": "code",
   "execution_count": 725,
   "id": "188e0e4d-4e17-45a8-b0d6-9dec59fb4770",
   "metadata": {},
   "outputs": [
    {
     "data": {
      "text/html": [
       "<div>\n",
       "<style scoped>\n",
       "    .dataframe tbody tr th:only-of-type {\n",
       "        vertical-align: middle;\n",
       "    }\n",
       "\n",
       "    .dataframe tbody tr th {\n",
       "        vertical-align: top;\n",
       "    }\n",
       "\n",
       "    .dataframe thead th {\n",
       "        text-align: right;\n",
       "    }\n",
       "</style>\n",
       "<table border=\"1\" class=\"dataframe\">\n",
       "  <thead>\n",
       "    <tr style=\"text-align: right;\">\n",
       "      <th></th>\n",
       "      <th>n</th>\n",
       "      <th>0.001</th>\n",
       "      <th>0.01</th>\n",
       "      <th>0.02</th>\n",
       "      <th>0.05</th>\n",
       "      <th>0.1</th>\n",
       "      <th>0.15</th>\n",
       "      <th>0.2</th>\n",
       "    </tr>\n",
       "  </thead>\n",
       "  <tbody>\n",
       "    <tr>\n",
       "      <th>0</th>\n",
       "      <td>1.0</td>\n",
       "      <td>NaN</td>\n",
       "      <td>0.99500</td>\n",
       "      <td>0.99000</td>\n",
       "      <td>0.97500</td>\n",
       "      <td>0.95000</td>\n",
       "      <td>0.92500</td>\n",
       "      <td>0.90000</td>\n",
       "    </tr>\n",
       "    <tr>\n",
       "      <th>1</th>\n",
       "      <td>2.0</td>\n",
       "      <td>0.97764</td>\n",
       "      <td>0.92930</td>\n",
       "      <td>0.90000</td>\n",
       "      <td>0.84189</td>\n",
       "      <td>0.77639</td>\n",
       "      <td>0.72614</td>\n",
       "      <td>0.68377</td>\n",
       "    </tr>\n",
       "    <tr>\n",
       "      <th>2</th>\n",
       "      <td>3.0</td>\n",
       "      <td>0.92063</td>\n",
       "      <td>0.82900</td>\n",
       "      <td>0.78456</td>\n",
       "      <td>0.70760</td>\n",
       "      <td>0.63604</td>\n",
       "      <td>0.59582</td>\n",
       "      <td>0.56481</td>\n",
       "    </tr>\n",
       "    <tr>\n",
       "      <th>3</th>\n",
       "      <td>4.0</td>\n",
       "      <td>0.85046</td>\n",
       "      <td>0.73421</td>\n",
       "      <td>0.68887</td>\n",
       "      <td>0.62394</td>\n",
       "      <td>0.56522</td>\n",
       "      <td>0.52476</td>\n",
       "      <td>0.49265</td>\n",
       "    </tr>\n",
       "    <tr>\n",
       "      <th>4</th>\n",
       "      <td>5.0</td>\n",
       "      <td>0.78137</td>\n",
       "      <td>0.66855</td>\n",
       "      <td>0.62718</td>\n",
       "      <td>0.56327</td>\n",
       "      <td>0.50945</td>\n",
       "      <td>0.47439</td>\n",
       "      <td>0.44697</td>\n",
       "    </tr>\n",
       "    <tr>\n",
       "      <th>5</th>\n",
       "      <td>6.0</td>\n",
       "      <td>0.72479</td>\n",
       "      <td>0.61660</td>\n",
       "      <td>0.57741</td>\n",
       "      <td>0.51926</td>\n",
       "      <td>0.46799</td>\n",
       "      <td>0.43526</td>\n",
       "      <td>0.41035</td>\n",
       "    </tr>\n",
       "    <tr>\n",
       "      <th>6</th>\n",
       "      <td>7.0</td>\n",
       "      <td>0.67930</td>\n",
       "      <td>0.57580</td>\n",
       "      <td>0.53844</td>\n",
       "      <td>0.48343</td>\n",
       "      <td>0.43607</td>\n",
       "      <td>0.40497</td>\n",
       "      <td>0.38145</td>\n",
       "    </tr>\n",
       "    <tr>\n",
       "      <th>7</th>\n",
       "      <td>8.0</td>\n",
       "      <td>0.64098</td>\n",
       "      <td>0.54180</td>\n",
       "      <td>0.50654</td>\n",
       "      <td>0.45427</td>\n",
       "      <td>0.40962</td>\n",
       "      <td>0.38062</td>\n",
       "      <td>0.35828</td>\n",
       "    </tr>\n",
       "    <tr>\n",
       "      <th>8</th>\n",
       "      <td>9.0</td>\n",
       "      <td>0.60846</td>\n",
       "      <td>0.51330</td>\n",
       "      <td>0.47960</td>\n",
       "      <td>0.43001</td>\n",
       "      <td>0.38746</td>\n",
       "      <td>0.36006</td>\n",
       "      <td>0.33907</td>\n",
       "    </tr>\n",
       "    <tr>\n",
       "      <th>9</th>\n",
       "      <td>10.0</td>\n",
       "      <td>0.58042</td>\n",
       "      <td>0.48895</td>\n",
       "      <td>0.45662</td>\n",
       "      <td>0.40925</td>\n",
       "      <td>0.36866</td>\n",
       "      <td>0.34250</td>\n",
       "      <td>0.32257</td>\n",
       "    </tr>\n",
       "    <tr>\n",
       "      <th>10</th>\n",
       "      <td>11.0</td>\n",
       "      <td>0.55588</td>\n",
       "      <td>0.46770</td>\n",
       "      <td>0.43670</td>\n",
       "      <td>0.39122</td>\n",
       "      <td>0.35242</td>\n",
       "      <td>0.32734</td>\n",
       "      <td>0.30826</td>\n",
       "    </tr>\n",
       "    <tr>\n",
       "      <th>11</th>\n",
       "      <td>12.0</td>\n",
       "      <td>0.53422</td>\n",
       "      <td>0.44905</td>\n",
       "      <td>0.41918</td>\n",
       "      <td>0.37543</td>\n",
       "      <td>0.33815</td>\n",
       "      <td>0.31408</td>\n",
       "      <td>0.29573</td>\n",
       "    </tr>\n",
       "    <tr>\n",
       "      <th>12</th>\n",
       "      <td>13.0</td>\n",
       "      <td>0.51490</td>\n",
       "      <td>0.43246</td>\n",
       "      <td>0.40362</td>\n",
       "      <td>0.36143</td>\n",
       "      <td>0.32548</td>\n",
       "      <td>0.30233</td>\n",
       "      <td>0.28466</td>\n",
       "    </tr>\n",
       "    <tr>\n",
       "      <th>13</th>\n",
       "      <td>14.0</td>\n",
       "      <td>0.49753</td>\n",
       "      <td>0.41760</td>\n",
       "      <td>0.38970</td>\n",
       "      <td>0.34890</td>\n",
       "      <td>0.31417</td>\n",
       "      <td>0.29181</td>\n",
       "      <td>0.27477</td>\n",
       "    </tr>\n",
       "    <tr>\n",
       "      <th>14</th>\n",
       "      <td>15.0</td>\n",
       "      <td>0.48182</td>\n",
       "      <td>0.40420</td>\n",
       "      <td>0.37713</td>\n",
       "      <td>0.33760</td>\n",
       "      <td>0.30397</td>\n",
       "      <td>0.28233</td>\n",
       "      <td>0.26585</td>\n",
       "    </tr>\n",
       "    <tr>\n",
       "      <th>15</th>\n",
       "      <td>16.0</td>\n",
       "      <td>0.46750</td>\n",
       "      <td>0.39200</td>\n",
       "      <td>0.36571</td>\n",
       "      <td>0.32733</td>\n",
       "      <td>0.29471</td>\n",
       "      <td>0.27372</td>\n",
       "      <td>0.25774</td>\n",
       "    </tr>\n",
       "    <tr>\n",
       "      <th>16</th>\n",
       "      <td>17.0</td>\n",
       "      <td>0.45440</td>\n",
       "      <td>0.38085</td>\n",
       "      <td>0.35528</td>\n",
       "      <td>0.31796</td>\n",
       "      <td>0.28627</td>\n",
       "      <td>0.26587</td>\n",
       "      <td>0.25035</td>\n",
       "    </tr>\n",
       "    <tr>\n",
       "      <th>17</th>\n",
       "      <td>18.0</td>\n",
       "      <td>0.44234</td>\n",
       "      <td>0.37063</td>\n",
       "      <td>0.34569</td>\n",
       "      <td>0.30936</td>\n",
       "      <td>0.27851</td>\n",
       "      <td>0.25867</td>\n",
       "      <td>0.24356</td>\n",
       "    </tr>\n",
       "    <tr>\n",
       "      <th>18</th>\n",
       "      <td>19.0</td>\n",
       "      <td>0.43119</td>\n",
       "      <td>0.36116</td>\n",
       "      <td>0.33685</td>\n",
       "      <td>0.30142</td>\n",
       "      <td>0.27135</td>\n",
       "      <td>0.25202</td>\n",
       "      <td>0.23731</td>\n",
       "    </tr>\n",
       "    <tr>\n",
       "      <th>19</th>\n",
       "      <td>20.0</td>\n",
       "      <td>0.42085</td>\n",
       "      <td>0.35240</td>\n",
       "      <td>0.32866</td>\n",
       "      <td>0.29407</td>\n",
       "      <td>0.26473</td>\n",
       "      <td>0.24587</td>\n",
       "      <td>0.23152</td>\n",
       "    </tr>\n",
       "    <tr>\n",
       "      <th>20</th>\n",
       "      <td>25.0</td>\n",
       "      <td>0.37843</td>\n",
       "      <td>0.31656</td>\n",
       "      <td>0.30349</td>\n",
       "      <td>0.26404</td>\n",
       "      <td>0.23767</td>\n",
       "      <td>0.22074</td>\n",
       "      <td>0.20786</td>\n",
       "    </tr>\n",
       "    <tr>\n",
       "      <th>21</th>\n",
       "      <td>30.0</td>\n",
       "      <td>0.34672</td>\n",
       "      <td>0.28988</td>\n",
       "      <td>0.27704</td>\n",
       "      <td>0.24170</td>\n",
       "      <td>0.21756</td>\n",
       "      <td>0.20207</td>\n",
       "      <td>0.19029</td>\n",
       "    </tr>\n",
       "    <tr>\n",
       "      <th>22</th>\n",
       "      <td>35.0</td>\n",
       "      <td>0.32187</td>\n",
       "      <td>0.26898</td>\n",
       "      <td>0.25649</td>\n",
       "      <td>0.22424</td>\n",
       "      <td>0.20184</td>\n",
       "      <td>0.18748</td>\n",
       "      <td>0.17655</td>\n",
       "    </tr>\n",
       "    <tr>\n",
       "      <th>23</th>\n",
       "      <td>40.0</td>\n",
       "      <td>0.30169</td>\n",
       "      <td>0.25188</td>\n",
       "      <td>0.23993</td>\n",
       "      <td>0.21017</td>\n",
       "      <td>0.18939</td>\n",
       "      <td>0.17610</td>\n",
       "      <td>0.16601</td>\n",
       "    </tr>\n",
       "    <tr>\n",
       "      <th>24</th>\n",
       "      <td>45.0</td>\n",
       "      <td>0.28482</td>\n",
       "      <td>0.23780</td>\n",
       "      <td>0.22621</td>\n",
       "      <td>0.19842</td>\n",
       "      <td>0.17881</td>\n",
       "      <td>0.16626</td>\n",
       "      <td>0.15673</td>\n",
       "    </tr>\n",
       "    <tr>\n",
       "      <th>25</th>\n",
       "      <td>50.0</td>\n",
       "      <td>0.27051</td>\n",
       "      <td>0.22585</td>\n",
       "      <td>0.21460</td>\n",
       "      <td>0.18845</td>\n",
       "      <td>0.16982</td>\n",
       "      <td>0.15790</td>\n",
       "      <td>0.14886</td>\n",
       "    </tr>\n",
       "    <tr>\n",
       "      <th>26</th>\n",
       "      <td>51.0</td>\n",
       "      <td>1.94947</td>\n",
       "      <td>1.62762</td>\n",
       "      <td>1.51743</td>\n",
       "      <td>1.35810</td>\n",
       "      <td>1.22385</td>\n",
       "      <td>1.13795</td>\n",
       "      <td>1.07275</td>\n",
       "    </tr>\n",
       "  </tbody>\n",
       "</table>\n",
       "</div>"
      ],
      "text/plain": [
       "       n    0.001     0.01     0.02     0.05      0.1     0.15      0.2\n",
       "0    1.0      NaN  0.99500  0.99000  0.97500  0.95000  0.92500  0.90000\n",
       "1    2.0  0.97764  0.92930  0.90000  0.84189  0.77639  0.72614  0.68377\n",
       "2    3.0  0.92063  0.82900  0.78456  0.70760  0.63604  0.59582  0.56481\n",
       "3    4.0  0.85046  0.73421  0.68887  0.62394  0.56522  0.52476  0.49265\n",
       "4    5.0  0.78137  0.66855  0.62718  0.56327  0.50945  0.47439  0.44697\n",
       "5    6.0  0.72479  0.61660  0.57741  0.51926  0.46799  0.43526  0.41035\n",
       "6    7.0  0.67930  0.57580  0.53844  0.48343  0.43607  0.40497  0.38145\n",
       "7    8.0  0.64098  0.54180  0.50654  0.45427  0.40962  0.38062  0.35828\n",
       "8    9.0  0.60846  0.51330  0.47960  0.43001  0.38746  0.36006  0.33907\n",
       "9   10.0  0.58042  0.48895  0.45662  0.40925  0.36866  0.34250  0.32257\n",
       "10  11.0  0.55588  0.46770  0.43670  0.39122  0.35242  0.32734  0.30826\n",
       "11  12.0  0.53422  0.44905  0.41918  0.37543  0.33815  0.31408  0.29573\n",
       "12  13.0  0.51490  0.43246  0.40362  0.36143  0.32548  0.30233  0.28466\n",
       "13  14.0  0.49753  0.41760  0.38970  0.34890  0.31417  0.29181  0.27477\n",
       "14  15.0  0.48182  0.40420  0.37713  0.33760  0.30397  0.28233  0.26585\n",
       "15  16.0  0.46750  0.39200  0.36571  0.32733  0.29471  0.27372  0.25774\n",
       "16  17.0  0.45440  0.38085  0.35528  0.31796  0.28627  0.26587  0.25035\n",
       "17  18.0  0.44234  0.37063  0.34569  0.30936  0.27851  0.25867  0.24356\n",
       "18  19.0  0.43119  0.36116  0.33685  0.30142  0.27135  0.25202  0.23731\n",
       "19  20.0  0.42085  0.35240  0.32866  0.29407  0.26473  0.24587  0.23152\n",
       "20  25.0  0.37843  0.31656  0.30349  0.26404  0.23767  0.22074  0.20786\n",
       "21  30.0  0.34672  0.28988  0.27704  0.24170  0.21756  0.20207  0.19029\n",
       "22  35.0  0.32187  0.26898  0.25649  0.22424  0.20184  0.18748  0.17655\n",
       "23  40.0  0.30169  0.25188  0.23993  0.21017  0.18939  0.17610  0.16601\n",
       "24  45.0  0.28482  0.23780  0.22621  0.19842  0.17881  0.16626  0.15673\n",
       "25  50.0  0.27051  0.22585  0.21460  0.18845  0.16982  0.15790  0.14886\n",
       "26  51.0  1.94947  1.62762  1.51743  1.35810  1.22385  1.13795  1.07275"
      ]
     },
     "execution_count": 725,
     "metadata": {},
     "output_type": "execute_result"
    }
   ],
   "source": [
    "ks_table = pd.read_csv(\"./ks_table.csv\", sep=\";\", dtype=float)\n",
    "ks_table"
   ]
  },
  {
   "cell_type": "markdown",
   "id": "dae86cab-0dc7-4344-9d7a-1fcfe5563f3b",
   "metadata": {},
   "source": [
    "# Begin the assignment"
   ]
  },
  {
   "cell_type": "markdown",
   "id": "bb86ec77-1307-4901-88fa-27a14d79e92a",
   "metadata": {},
   "source": [
    "## Read and clean the data"
   ]
  },
  {
   "cell_type": "code",
   "execution_count": 726,
   "id": "617155dd-d6db-441d-a6f1-1c6214d51750",
   "metadata": {},
   "outputs": [],
   "source": [
    "df1, df2, df3 = map(lambda s: pd.read_csv(s, names=[VALUE_COL], dtype=float), PANDAS_FILE_PATHS)"
   ]
  },
  {
   "cell_type": "markdown",
   "id": "64f7d05f-da70-44ec-aba9-e773087a5297",
   "metadata": {},
   "source": [
    "### Make initial observations and simple plots"
   ]
  },
  {
   "cell_type": "code",
   "execution_count": 727,
   "id": "c4b0f24d-3308-4583-86f4-26ef0f236b08",
   "metadata": {},
   "outputs": [
    {
     "data": {
      "text/html": [
       "<div>\n",
       "<style scoped>\n",
       "    .dataframe tbody tr th:only-of-type {\n",
       "        vertical-align: middle;\n",
       "    }\n",
       "\n",
       "    .dataframe tbody tr th {\n",
       "        vertical-align: top;\n",
       "    }\n",
       "\n",
       "    .dataframe thead th {\n",
       "        text-align: right;\n",
       "    }\n",
       "</style>\n",
       "<table border=\"1\" class=\"dataframe\">\n",
       "  <thead>\n",
       "    <tr style=\"text-align: right;\">\n",
       "      <th></th>\n",
       "      <th>value</th>\n",
       "    </tr>\n",
       "  </thead>\n",
       "  <tbody>\n",
       "    <tr>\n",
       "      <th>count</th>\n",
       "      <td>100001.000000</td>\n",
       "    </tr>\n",
       "    <tr>\n",
       "      <th>mean</th>\n",
       "      <td>3.440746</td>\n",
       "    </tr>\n",
       "    <tr>\n",
       "      <th>std</th>\n",
       "      <td>3.169907</td>\n",
       "    </tr>\n",
       "    <tr>\n",
       "      <th>min</th>\n",
       "      <td>0.000000</td>\n",
       "    </tr>\n",
       "    <tr>\n",
       "      <th>25%</th>\n",
       "      <td>1.000000</td>\n",
       "    </tr>\n",
       "    <tr>\n",
       "      <th>50%</th>\n",
       "      <td>2.000000</td>\n",
       "    </tr>\n",
       "    <tr>\n",
       "      <th>75%</th>\n",
       "      <td>4.000000</td>\n",
       "    </tr>\n",
       "    <tr>\n",
       "      <th>max</th>\n",
       "      <td>66.000000</td>\n",
       "    </tr>\n",
       "  </tbody>\n",
       "</table>\n",
       "</div>"
      ],
      "text/plain": [
       "               value\n",
       "count  100001.000000\n",
       "mean        3.440746\n",
       "std         3.169907\n",
       "min         0.000000\n",
       "25%         1.000000\n",
       "50%         2.000000\n",
       "75%         4.000000\n",
       "max        66.000000"
      ]
     },
     "metadata": {},
     "output_type": "display_data"
    },
    {
     "data": {
      "text/html": [
       "<div>\n",
       "<style scoped>\n",
       "    .dataframe tbody tr th:only-of-type {\n",
       "        vertical-align: middle;\n",
       "    }\n",
       "\n",
       "    .dataframe tbody tr th {\n",
       "        vertical-align: top;\n",
       "    }\n",
       "\n",
       "    .dataframe thead th {\n",
       "        text-align: right;\n",
       "    }\n",
       "</style>\n",
       "<table border=\"1\" class=\"dataframe\">\n",
       "  <thead>\n",
       "    <tr style=\"text-align: right;\">\n",
       "      <th></th>\n",
       "      <th>value</th>\n",
       "    </tr>\n",
       "  </thead>\n",
       "  <tbody>\n",
       "    <tr>\n",
       "      <th>count</th>\n",
       "      <td>10001.000000</td>\n",
       "    </tr>\n",
       "    <tr>\n",
       "      <th>mean</th>\n",
       "      <td>16.241659</td>\n",
       "    </tr>\n",
       "    <tr>\n",
       "      <th>std</th>\n",
       "      <td>104.534353</td>\n",
       "    </tr>\n",
       "    <tr>\n",
       "      <th>min</th>\n",
       "      <td>-1071.786686</td>\n",
       "    </tr>\n",
       "    <tr>\n",
       "      <th>25%</th>\n",
       "      <td>-39.330262</td>\n",
       "    </tr>\n",
       "    <tr>\n",
       "      <th>50%</th>\n",
       "      <td>18.857762</td>\n",
       "    </tr>\n",
       "    <tr>\n",
       "      <th>75%</th>\n",
       "      <td>77.012704</td>\n",
       "    </tr>\n",
       "    <tr>\n",
       "      <th>max</th>\n",
       "      <td>698.777979</td>\n",
       "    </tr>\n",
       "  </tbody>\n",
       "</table>\n",
       "</div>"
      ],
      "text/plain": [
       "              value\n",
       "count  10001.000000\n",
       "mean      16.241659\n",
       "std      104.534353\n",
       "min    -1071.786686\n",
       "25%      -39.330262\n",
       "50%       18.857762\n",
       "75%       77.012704\n",
       "max      698.777979"
      ]
     },
     "metadata": {},
     "output_type": "display_data"
    },
    {
     "data": {
      "text/html": [
       "<div>\n",
       "<style scoped>\n",
       "    .dataframe tbody tr th:only-of-type {\n",
       "        vertical-align: middle;\n",
       "    }\n",
       "\n",
       "    .dataframe tbody tr th {\n",
       "        vertical-align: top;\n",
       "    }\n",
       "\n",
       "    .dataframe thead th {\n",
       "        text-align: right;\n",
       "    }\n",
       "</style>\n",
       "<table border=\"1\" class=\"dataframe\">\n",
       "  <thead>\n",
       "    <tr style=\"text-align: right;\">\n",
       "      <th></th>\n",
       "      <th>value</th>\n",
       "    </tr>\n",
       "  </thead>\n",
       "  <tbody>\n",
       "    <tr>\n",
       "      <th>count</th>\n",
       "      <td>100001.000000</td>\n",
       "    </tr>\n",
       "    <tr>\n",
       "      <th>mean</th>\n",
       "      <td>0.124487</td>\n",
       "    </tr>\n",
       "    <tr>\n",
       "      <th>std</th>\n",
       "      <td>0.160142</td>\n",
       "    </tr>\n",
       "    <tr>\n",
       "      <th>min</th>\n",
       "      <td>-1.989815</td>\n",
       "    </tr>\n",
       "    <tr>\n",
       "      <th>25%</th>\n",
       "      <td>0.035304</td>\n",
       "    </tr>\n",
       "    <tr>\n",
       "      <th>50%</th>\n",
       "      <td>0.086259</td>\n",
       "    </tr>\n",
       "    <tr>\n",
       "      <th>75%</th>\n",
       "      <td>0.173373</td>\n",
       "    </tr>\n",
       "    <tr>\n",
       "      <th>max</th>\n",
       "      <td>2.433138</td>\n",
       "    </tr>\n",
       "  </tbody>\n",
       "</table>\n",
       "</div>"
      ],
      "text/plain": [
       "               value\n",
       "count  100001.000000\n",
       "mean        0.124487\n",
       "std         0.160142\n",
       "min        -1.989815\n",
       "25%         0.035304\n",
       "50%         0.086259\n",
       "75%         0.173373\n",
       "max         2.433138"
      ]
     },
     "metadata": {},
     "output_type": "display_data"
    }
   ],
   "source": [
    "display(df1.describe(), df2.describe(), df3.describe())"
   ]
  },
  {
   "cell_type": "code",
   "execution_count": 728,
   "id": "d1f15c57-5619-49a1-b4c9-7bd370c7b447",
   "metadata": {},
   "outputs": [],
   "source": [
    "def plot_datasets(suptitle: str) -> None:\n",
    "    \"\"\"Plots histograms for three initial datasets\"\"\"\n",
    "    fig = plt.figure(figsize=(12, 8))\n",
    "    gs = fig.add_gridspec(nrows=2, ncols=2)\n",
    "    \n",
    "    ax1 = fig.add_subplot(gs[0, 1])\n",
    "    ax2 = fig.add_subplot(gs[1, 1])\n",
    "    ax3 = fig.add_subplot(gs[:, 0])\n",
    "    \n",
    "    plt.suptitle(suptitle, fontsize=24)\n",
    "    \n",
    "    for i, (ax, df) in enumerate(zip([ax1, ax2, ax3], [df1, df2, df3])):    \n",
    "        sns.histplot(df, legend=False, bins=70, stat='probability', ax=ax)\n",
    "        ax.set_xlabel('Value', fontdict={'fontsize': 12})\n",
    "        ax.set_ylabel('Probability', fontdict={'fontsize': 12})\n",
    "        ax.set_title(f'Historgam for dataset #{i + 1}', fontdict={'fontsize': 16})\n",
    "    \n",
    "    plt.tight_layout(pad=2.16)\n",
    "    plt.show()"
   ]
  },
  {
   "cell_type": "code",
   "execution_count": 729,
   "id": "3330b2ab-7c99-4ad9-b373-a54dfb403cf3",
   "metadata": {},
   "outputs": [
    {
     "data": {
      "image/png": "[encoded data removed]",
      "text/plain": [
       "<Figure size 1200x800 with 3 Axes>"
      ]
     },
     "metadata": {},
     "output_type": "display_data"
    }
   ],
   "source": [
    "plot_datasets('Histotrams for three initial datasets')"
   ]
  },
  {
   "cell_type": "markdown",
   "id": "9597141c-ce74-49af-9d8e-f25c541770c5",
   "metadata": {},
   "source": [
    "### Remove outliers"
   ]
  },
  {
   "cell_type": "code",
   "execution_count": 730,
   "id": "bb59c071-48e8-4592-b33b-a32031c7fb5a",
   "metadata": {},
   "outputs": [],
   "source": [
    "def remove_outliers(df: pd.DataFrame) -> pd.DataFrame:\n",
    "    q: float = df[VALUE_COL].quantile(0.99)\n",
    "    return df[df[VALUE_COL] < q]"
   ]
  },
  {
   "cell_type": "code",
   "execution_count": 731,
   "id": "b2b5baae-b610-4c0d-abeb-993cd84ca7cd",
   "metadata": {},
   "outputs": [],
   "source": [
    "df1, df2, df3 = map(remove_outliers, [df1, df2, df3])"
   ]
  },
  {
   "cell_type": "code",
   "execution_count": 732,
   "id": "a53f67a6-0609-4cba-9f2d-d1b9eb48f45b",
   "metadata": {},
   "outputs": [
    {
     "data": {
      "image/png": "[encoded data removed]",
      "text/plain": [
       "<Figure size 1200x800 with 3 Axes>"
      ]
     },
     "metadata": {},
     "output_type": "display_data"
    }
   ],
   "source": [
    "plot_datasets('Histograms for cleaned datasets')"
   ]
  },
  {
   "cell_type": "markdown",
   "id": "7b538a7f-b8c6-40e7-842f-5d33cc9e2246",
   "metadata": {},
   "source": [
    "As it can be seen from the shape of the three histograms above, the first dataset can be fit into **geometric** distribution (discrete option), the third dataset can be fit into the same distribution as the first one, while the second one can be fit into **binomial** or **Poisson** distribution."
   ]
  },
  {
   "cell_type": "markdown",
   "id": "9f527105-bf3e-4b7e-b4b6-c29b27e37c05",
   "metadata": {},
   "source": [
    "# Match datasets with corresponding distributions"
   ]
  },
  {
   "cell_type": "markdown",
   "id": "032135e4-5057-472a-b1bc-8d86a27d4d74",
   "metadata": {},
   "source": [
    "## Define functions for generating random distributions"
   ]
  },
  {
   "cell_type": "markdown",
   "id": "56698d4a-d5de-4b7d-9f88-ba2823877548",
   "metadata": {},
   "source": [
    "### Geometric"
   ]
  },
  {
   "cell_type": "code",
   "execution_count": 733,
   "id": "ec12b856-b92b-4d0e-a7a7-f100cd654623",
   "metadata": {},
   "outputs": [],
   "source": [
    "def geometric(p: float, size: int) -> np.ndarray:\n",
    "    assert 0 <= p <= 1, \"Probability cannot be less than zero or greater than one!\"\n",
    "    return np.random.geometric(p, size)"
   ]
  },
  {
   "cell_type": "markdown",
   "id": "f7936058-5220-4c83-9a64-9f6cfd585033",
   "metadata": {},
   "source": [
    "### Binomial"
   ]
  },
  {
   "cell_type": "code",
   "execution_count": 734,
   "id": "36535420-f6de-41cb-8a9b-8e189cf6c28a",
   "metadata": {},
   "outputs": [],
   "source": [
    "def binomial(n: int, p: float, size: int) -> np.ndarray:\n",
    "    assert 0 <= p <= 1, \"Probability cannot be less than zero or greater than one!\"\n",
    "    return np.random.binomial(n, p, size)"
   ]
  },
  {
   "cell_type": "markdown",
   "id": "afec7488-6886-446d-9aeb-a0e9d0fe8f92",
   "metadata": {},
   "source": [
    "### Poisson\n",
    "If we say $Y \\sim \\operatorname{P}(\\lambda)$, then: \n",
    "$$\n",
    "p(k) \\equiv P(Y = k) = \\frac{\\lambda^k}{k!} e^{-\\lambda},\n",
    "$$\n",
    "where $k$ is the number of events, $\\lambda$ = $\\mu_Y$."
   ]
  },
  {
   "cell_type": "code",
   "execution_count": 735,
   "id": "9bc0463d-0d2c-49d9-8807-161d1cbad3b2",
   "metadata": {},
   "outputs": [],
   "source": [
    "def poisson(lam: float, size: int) -> np.ndarray:\n",
    "    return np.random.poisson(lam, size)"
   ]
  },
  {
   "cell_type": "markdown",
   "id": "07c90934-21fc-43d2-800b-49e09827ec14",
   "metadata": {},
   "source": [
    "### Uniform"
   ]
  },
  {
   "cell_type": "code",
   "execution_count": 736,
   "id": "47fb68bb-eae6-4a93-b41e-c50ecd43c69f",
   "metadata": {},
   "outputs": [],
   "source": [
    "def uniform(low: float, high: float, size: int) -> np.ndarray:\n",
    "    return np.random.uniform(low, high, size)"
   ]
  },
  {
   "cell_type": "markdown",
   "id": "aacd7d5b-4386-40fb-b6a8-c7c4f351fb9a",
   "metadata": {},
   "source": [
    "### Normal"
   ]
  },
  {
   "cell_type": "code",
   "execution_count": 737,
   "id": "dc6ba7c3-6faa-4460-8791-47f87297fd72",
   "metadata": {},
   "outputs": [],
   "source": [
    "def normal(mean: float, std: float, size: int) -> np.ndarray:\n",
    "    return np.random.normal(mean, std, size)"
   ]
  },
  {
   "cell_type": "markdown",
   "id": "85d60bd8-e9be-44c5-8f59-4267faa84cfa",
   "metadata": {},
   "source": [
    "### Exponential"
   ]
  },
  {
   "cell_type": "code",
   "execution_count": 738,
   "id": "1ee83a19-5b67-4cff-8a5d-a898ffe068a1",
   "metadata": {},
   "outputs": [],
   "source": [
    "def exponential(scale: float, size: int) -> np.ndarray:\n",
    "    return np.random.exponential(scale, size)"
   ]
  },
  {
   "cell_type": "markdown",
   "id": "4296019f-feb8-4d51-b404-2e2db9b475b2",
   "metadata": {},
   "source": [
    "## Define criterions and utility functions"
   ]
  },
  {
   "cell_type": "markdown",
   "id": "6e663e3f-c082-47b9-afa6-ec0a5686551a",
   "metadata": {},
   "source": [
    "### CDF computation\n",
    "Cumulative distribution function (CDF) is a function that represents the probability that random variable ${X}$ will take value less or equal than $x$:\n",
    "\n",
    "$$\n",
    "F_{X}\\left(x\\right) = \\operatorname {P}(X \\leq x)\n",
    "$$"
   ]
  },
  {
   "cell_type": "code",
   "execution_count": 875,
   "id": "0377f81a-ddba-410d-87c0-50647fedda82",
   "metadata": {},
   "outputs": [],
   "source": [
    "def cdf(data: np.ndarray) -> np.ndarray:\n",
    "    \"\"\"Takes data distribution and computes its cumulative distribution function (CDF).\"\"\"\n",
    "    x, counts = np.unique(data, return_counts=True)\n",
    "    cdf = np.cumsum(counts)\n",
    "    return cdf / cdf[-1]"
   ]
  },
  {
   "cell_type": "markdown",
   "id": "88f33de6-18ed-4756-8ff8-f208f6b76e31",
   "metadata": {},
   "source": [
    "### Chi-squared test\n",
    "Links with information about $\\chi^2$ test are provided at the beginning of the document."
   ]
  },
  {
   "cell_type": "code",
   "execution_count": 877,
   "id": "f7c82f35-38c1-4f9f-a53b-28331765223a",
   "metadata": {},
   "outputs": [],
   "source": [
    "def chi_squared_test(data: np.ndarray, th_data: np.ndarray) -> float:\n",
    "    \"\"\"Computes chi-squared test of two distributions.\"\"\"\n",
    "    n_bins: int = 51\n",
    "    delta: float = 75e-4\n",
    "\n",
    "    emp_hist, _ = np.histogram(data, bins=n_bins, density=True)\n",
    "    th_hist, _ = np.histogram(th_data, bins=n_bins, density=True)\n",
    "    \n",
    "    chi_squared: float = np.sum((th_hist - emp_hist) ** 2 / (emp_hist + delta))\n",
    "    \n",
    "    return np.around(chi_squared, 9)"
   ]
  },
  {
   "cell_type": "markdown",
   "id": "984ad07f-0739-495b-9bee-3a164888e2a9",
   "metadata": {},
   "source": [
    "### Kolmogorov-Smirnov test\n",
    "- [Dummy Python implementation of K-S test using Pandas & NumPy](https://medium.com/@ricardojaviermartnezsustegui/kolmog%C3%B3rov-smirnov-test-in-python-step-by-step-1b7532021bd2)"
   ]
  },
  {
   "cell_type": "code",
   "execution_count": 827,
   "id": "4d62399b-fbf3-4eb2-afa4-dae11c635848",
   "metadata": {},
   "outputs": [],
   "source": [
    "def ks_test(data: np.ndarray, th_data: np.ndarray) -> float:\n",
    "    \"\"\"Computes Kolmogorov-Smirnos test of two distributions.\"\"\"\n",
    "    data_bins: int = len(np.unique(data))\n",
    "    th_data_bins: int = len(np.unique(th_data))\n",
    "    n_bins: int = min(data_bins, th_data_bins)\n",
    "    \n",
    "    emp_cdf: np.ndarray = cdf(data)\n",
    "    th_cdf: np.ndarray = cdf(th_data)\n",
    "    \n",
    "    D = np.max(np.abs(emp_cdf[:n_bins] - th_cdf[:n_bins]))\n",
    "    h = (ks_table[ks_table['n'] == n_bins][ALPHA].iloc[0] \n",
    "         if n_bins in list(ks_table['n'].astype(int)) and n_bins < 51\n",
    "         else K_S_COEF / np.sqrt(n_bins))\n",
    "\n",
    "    return np.around(D, 9), np.around(h, 9)"
   ]
  },
  {
   "cell_type": "markdown",
   "id": "33fb78f0-d8d1-4b68-b3a2-6a75da065dfa",
   "metadata": {},
   "source": [
    "## Create distribution testing pipeline\n",
    "This class is responsible for testing fits of all the distributions defined above. Its main method is `find_best_fit` which finds the best fitting distribution amongst those in `self.distributions` field. \n",
    "\n",
    "This field is essentially a dictionary with distribution names as keys and some specific tuples as values. These tuples' first elements are function objects for data generation, and second elements are preprocessing function that take $\\mu$ and $\\sigma$ as inputs and output arguments for those function objects."
   ]
  },
  {
   "cell_type": "code",
   "execution_count": 890,
   "id": "6c641090-474d-4763-a0d0-40ad4a65b093",
   "metadata": {},
   "outputs": [],
   "source": [
    "class DistributionTestingPipeline:\n",
    "    def __init__(self):\n",
    "        self.distributions = {\n",
    "            'geometric': (geometric, lambda mean, std: (1. / mean,)),\n",
    "            'binomial': (binomial, lambda mean, std: (1. / (mean - std ** 2), 1. - std ** 2 / mean)),\n",
    "            'poisson': (poisson, lambda mean, std: (mean,)),\n",
    "            'uniform': (uniform, lambda mean, std: (mean - np.sqrt(2) * std, mean + np.sqrt(2) * std)),\n",
    "            'normal': (normal, lambda mean, std: (mean, std)),\n",
    "            'exponential': (exponential, lambda mean, std: (1. / mean,))\n",
    "        }\n",
    "\n",
    "    def find_best_fit(self, data: pd.DataFrame) -> pd.DataFrame:\n",
    "        \"\"\"Given the dataset, finds the best fitting theoretical distribution\n",
    "        based on the specified criteria. Theoretical distributions are taken from\n",
    "        `distributions` field of class instance.\n",
    "        \"\"\"\n",
    "        estimations: dict[str, np.ndarray] = {}\n",
    "\n",
    "        for name, (dist, preproc) in self.distributions.items():\n",
    "            try:\n",
    "                estimations[name] = self.test_distibution(data, name)\n",
    "            except AssertionError as e:\n",
    "                print(f\"\"\"Skipping {name} distribution due to following error: \"{e}\".\\n\"\"\")\n",
    "        \n",
    "        return pd.DataFrame.from_dict(estimations, orient='index')\n",
    "    \n",
    "    def test_distibution(self, data: pd.DataFrame, name: str):\n",
    "        \"\"\"Test how well a single distribution with name ``name`` fits the data.\"\"\"\n",
    "        assert name in self.distributions.keys(), f\"Distribution should be either of: {', '.join(self.distributions.keys())}\"\n",
    "        \n",
    "        mean, std = data[VALUE_COL].mean(), data[VALUE_COL].std()\n",
    "        th_data: np.ndarray = self.generate_distribution(name, mean, std, len(data[VALUE_COL]))\n",
    "\n",
    "        # print(f\"Processing {name} distribution:\")\n",
    "        # print(f\" - Epirical mean = {np.around(mean, 2)}, empirical std = {np.around(std, 2)}\")\n",
    "        # print(f\" - Theoretical mean = {np.around(th_data.mean(), 2)}, theoretical std = {np.around(th_data.std(), 2)}\")\n",
    "        # print()\n",
    "        \n",
    "        D, h = ks_test(data[VALUE_COL].to_numpy(), np.insert(th_data, [0], 0))\n",
    "        chi_stat  = chi_squared_test(data[VALUE_COL].to_numpy(), th_data)\n",
    "\n",
    "        return {\"ks_D\": D, \n",
    "                \"ks_h\": h,\n",
    "                \"ks_fit\": D < h, \n",
    "                \"chi_stat\": chi_stat, \n",
    "                \"chi_fit\": chi_stat < CHI_SQUARED_CRITICAL_VALUE}\n",
    "    \n",
    "    def generate_distribution(self, name: str, mean: float, std: float, size: int) -> np.ndarray:\n",
    "        \"\"\"Generates theoretical distribution with values corresponding to function arguments.\"\"\"\n",
    "        dist, preproc = self.distributions.get(name)\n",
    "        params: tuple = preproc(mean, std)\n",
    "        \n",
    "        return dist(*params, size)"
   ]
  },
  {
   "cell_type": "markdown",
   "id": "61b75915-fbb4-4cdd-ab40-a34a43081641",
   "metadata": {},
   "source": [
    "# Find best-fitting theoretical distributions to the given empritical data"
   ]
  },
  {
   "cell_type": "code",
   "execution_count": 891,
   "id": "b7e002cd-6349-4d6a-8649-3244545f6fc2",
   "metadata": {},
   "outputs": [],
   "source": [
    "pipeline = DistributionTestingPipeline()"
   ]
  },
  {
   "cell_type": "code",
   "execution_count": 892,
   "id": "2fc49536-e021-495d-a308-89c037ee27b1",
   "metadata": {},
   "outputs": [
    {
     "name": "stdout",
     "output_type": "stream",
     "text": [
      "Skipping binomial distribution due to following error: \"Probability cannot be less than zero or greater than one!\".\n",
      "\n",
      "Skipping binomial distribution due to following error: \"Probability cannot be less than zero or greater than one!\".\n",
      "\n",
      "Skipping geometric distribution due to following error: \"Probability cannot be less than zero or greater than one!\".\n",
      "\n"
     ]
    }
   ],
   "source": [
    "df1_results = pipeline.find_best_fit(df1)\n",
    "df2_results = pipeline.find_best_fit(df2)\n",
    "df3_results = pipeline.find_best_fit(df3)"
   ]
  },
  {
   "cell_type": "markdown",
   "id": "6774c67a-dc3d-431d-9e1f-8008500aa8c7",
   "metadata": {},
   "source": [
    "## Observing results"
   ]
  },
  {
   "cell_type": "code",
   "execution_count": 893,
   "id": "1b14a9da-584d-4b7a-9af2-92f39c2e121e",
   "metadata": {},
   "outputs": [],
   "source": [
    "stats: dict[str, tuple[float, float]] = {\n",
    "    \"df1\": (df1[VALUE_COL].mean(), df1[VALUE_COL].std(), len(df1)),\n",
    "    \"df2\": (df2[VALUE_COL].mean(), df2[VALUE_COL].std(), len(df2)),\n",
    "    \"df3\": (df3[VALUE_COL].mean(), df3[VALUE_COL].std(), len(df3))\n",
    "}"
   ]
  },
  {
   "cell_type": "code",
   "execution_count": 895,
   "id": "ab994422-4ff4-4e64-9691-73269bdcc76e",
   "metadata": {},
   "outputs": [
    {
     "data": {
      "text/plain": [
       "{'df1': (3.232142314433042, 2.4984474134775665, 98711),\n",
       " 'df2': (13.123781592525255, 100.071916214365, 9900),\n",
       " 'df3': (0.11605528426262628, 0.13532427395338473, 99000)}"
      ]
     },
     "execution_count": 895,
     "metadata": {},
     "output_type": "execute_result"
    }
   ],
   "source": [
    "stats"
   ]
  },
  {
   "cell_type": "markdown",
   "id": "1cb9f6af-0bdb-4eda-8e5b-0a8916a7535a",
   "metadata": {},
   "source": [
    "### Dataset №1\n",
    "As it can be seen from results for dataset №1, $D < h$ in K-S test for **geometric** and **Peometric** distributions, but in case of **geometric** distribution D-value is smallest, so it is the best fit for dataset №1.\n",
    "\n",
    "$\\chi^2$ test produced plausible results as well."
   ]
  },
  {
   "cell_type": "code",
   "execution_count": 896,
   "id": "c25ef89a-4e88-4375-ae28-dc6abb0cb429",
   "metadata": {},
   "outputs": [
    {
     "data": {
      "text/html": [
       "<div>\n",
       "<style scoped>\n",
       "    .dataframe tbody tr th:only-of-type {\n",
       "        vertical-align: middle;\n",
       "    }\n",
       "\n",
       "    .dataframe tbody tr th {\n",
       "        vertical-align: top;\n",
       "    }\n",
       "\n",
       "    .dataframe thead th {\n",
       "        text-align: right;\n",
       "    }\n",
       "</style>\n",
       "<table border=\"1\" class=\"dataframe\">\n",
       "  <thead>\n",
       "    <tr style=\"text-align: right;\">\n",
       "      <th></th>\n",
       "      <th>ks_D</th>\n",
       "      <th>ks_h</th>\n",
       "      <th>ks_fit</th>\n",
       "      <th>chi_stat</th>\n",
       "      <th>chi_fit</th>\n",
       "    </tr>\n",
       "  </thead>\n",
       "  <tbody>\n",
       "    <tr>\n",
       "      <th>geometric</th>\n",
       "      <td>0.013418</td>\n",
       "      <td>0.3489</td>\n",
       "      <td>True</td>\n",
       "      <td>54.075492</td>\n",
       "      <td>True</td>\n",
       "    </tr>\n",
       "    <tr>\n",
       "      <th>poisson</th>\n",
       "      <td>0.137111</td>\n",
       "      <td>0.3489</td>\n",
       "      <td>True</td>\n",
       "      <td>4.176238</td>\n",
       "      <td>True</td>\n",
       "    </tr>\n",
       "    <tr>\n",
       "      <th>uniform</th>\n",
       "      <td>0.999858</td>\n",
       "      <td>0.3489</td>\n",
       "      <td>False</td>\n",
       "      <td>104.898549</td>\n",
       "      <td>False</td>\n",
       "    </tr>\n",
       "    <tr>\n",
       "      <th>normal</th>\n",
       "      <td>0.999858</td>\n",
       "      <td>0.3489</td>\n",
       "      <td>False</td>\n",
       "      <td>26.681868</td>\n",
       "      <td>True</td>\n",
       "    </tr>\n",
       "    <tr>\n",
       "      <th>exponential</th>\n",
       "      <td>0.999858</td>\n",
       "      <td>0.3489</td>\n",
       "      <td>False</td>\n",
       "      <td>2558.272916</td>\n",
       "      <td>False</td>\n",
       "    </tr>\n",
       "  </tbody>\n",
       "</table>\n",
       "</div>"
      ],
      "text/plain": [
       "                 ks_D    ks_h  ks_fit     chi_stat  chi_fit\n",
       "geometric    0.013418  0.3489    True    54.075492     True\n",
       "poisson      0.137111  0.3489    True     4.176238     True\n",
       "uniform      0.999858  0.3489   False   104.898549    False\n",
       "normal       0.999858  0.3489   False    26.681868     True\n",
       "exponential  0.999858  0.3489   False  2558.272916    False"
      ]
     },
     "metadata": {},
     "output_type": "display_data"
    }
   ],
   "source": [
    "display(df1_results)"
   ]
  },
  {
   "cell_type": "code",
   "execution_count": 897,
   "id": "05535917-d4f3-470f-8d04-84829ee37d3f",
   "metadata": {},
   "outputs": [
    {
     "data": {
      "text/plain": [
       "<Axes: ylabel='Probability'>"
      ]
     },
     "execution_count": 897,
     "metadata": {},
     "output_type": "execute_result"
    },
    {
     "data": {
      "image/png": "[encoded data removed]",
      "text/plain": [
       "<Figure size 640x480 with 1 Axes>"
      ]
     },
     "metadata": {},
     "output_type": "display_data"
    }
   ],
   "source": [
    "sns.histplot(df1, stat=\"probability\")\n",
    "sns.histplot(pipeline.generate_distribution(\"geometric\", *stats[\"df1\"]), stat=\"probability\")\n",
    "sns.histplot(pipeline.generate_distribution(\"poisson\", *stats[\"df1\"]), stat=\"probability\")\n",
    "sns.histplot(pipeline.generate_distribution(\"normal\", *stats[\"df1\"]), stat=\"probability\")"
   ]
  },
  {
   "cell_type": "markdown",
   "id": "7922d3ad-658f-4e10-885a-b83c07df960c",
   "metadata": {},
   "source": [
    "### Dataset №2\n",
    "As it can be seen from results for dataset №2, $D < h$ in K-S test for **uniform**, **normal**, and **exponential** distributions, but in case of **normal** distribution, D-value is smallest, so it is the best fit for dataset №2.\n",
    "\n",
    "$\\chi^2$ test produced plausible results as well."
   ]
  },
  {
   "cell_type": "code",
   "execution_count": 898,
   "id": "525e48a7-fd9d-47b0-a4ce-f51da7a9f9c1",
   "metadata": {},
   "outputs": [
    {
     "data": {
      "text/html": [
       "<div>\n",
       "<style scoped>\n",
       "    .dataframe tbody tr th:only-of-type {\n",
       "        vertical-align: middle;\n",
       "    }\n",
       "\n",
       "    .dataframe tbody tr th {\n",
       "        vertical-align: top;\n",
       "    }\n",
       "\n",
       "    .dataframe thead th {\n",
       "        text-align: right;\n",
       "    }\n",
       "</style>\n",
       "<table border=\"1\" class=\"dataframe\">\n",
       "  <thead>\n",
       "    <tr style=\"text-align: right;\">\n",
       "      <th></th>\n",
       "      <th>ks_D</th>\n",
       "      <th>ks_h</th>\n",
       "      <th>ks_fit</th>\n",
       "      <th>chi_stat</th>\n",
       "      <th>chi_fit</th>\n",
       "    </tr>\n",
       "  </thead>\n",
       "  <tbody>\n",
       "    <tr>\n",
       "      <th>geometric</th>\n",
       "      <td>0.990909</td>\n",
       "      <td>0.143156</td>\n",
       "      <td>False</td>\n",
       "      <td>2.740668</td>\n",
       "      <td>True</td>\n",
       "    </tr>\n",
       "    <tr>\n",
       "      <th>poisson</th>\n",
       "      <td>0.997071</td>\n",
       "      <td>0.252193</td>\n",
       "      <td>False</td>\n",
       "      <td>36.509696</td>\n",
       "      <td>True</td>\n",
       "    </tr>\n",
       "    <tr>\n",
       "      <th>uniform</th>\n",
       "      <td>0.000101</td>\n",
       "      <td>0.013649</td>\n",
       "      <td>True</td>\n",
       "      <td>0.065401</td>\n",
       "      <td>True</td>\n",
       "    </tr>\n",
       "    <tr>\n",
       "      <th>normal</th>\n",
       "      <td>0.000101</td>\n",
       "      <td>0.013649</td>\n",
       "      <td>True</td>\n",
       "      <td>0.032718</td>\n",
       "      <td>True</td>\n",
       "    </tr>\n",
       "    <tr>\n",
       "      <th>exponential</th>\n",
       "      <td>0.000101</td>\n",
       "      <td>0.013649</td>\n",
       "      <td>True</td>\n",
       "      <td>60970.866000</td>\n",
       "      <td>False</td>\n",
       "    </tr>\n",
       "  </tbody>\n",
       "</table>\n",
       "</div>"
      ],
      "text/plain": [
       "                 ks_D      ks_h  ks_fit      chi_stat  chi_fit\n",
       "geometric    0.990909  0.143156   False      2.740668     True\n",
       "poisson      0.997071  0.252193   False     36.509696     True\n",
       "uniform      0.000101  0.013649    True      0.065401     True\n",
       "normal       0.000101  0.013649    True      0.032718     True\n",
       "exponential  0.000101  0.013649    True  60970.866000    False"
      ]
     },
     "metadata": {},
     "output_type": "display_data"
    }
   ],
   "source": [
    "display(df2_results)"
   ]
  },
  {
   "cell_type": "code",
   "execution_count": 862,
   "id": "aea2ff71-abdd-4ab7-9bb3-c3a86d83a904",
   "metadata": {},
   "outputs": [
    {
     "data": {
      "text/plain": [
       "<Axes: ylabel='Probability'>"
      ]
     },
     "execution_count": 862,
     "metadata": {},
     "output_type": "execute_result"
    },
    {
     "data": {
      "image/png": "[encoded data removed]",
      "text/plain": [
       "<Figure size 640x480 with 1 Axes>"
      ]
     },
     "metadata": {},
     "output_type": "display_data"
    }
   ],
   "source": [
    "sns.histplot(df2, stat=\"probability\")\n",
    "sns.histplot(pipeline.generate_distribution(\"uniform\", *stats[\"df2\"]), stat=\"probability\")\n",
    "sns.histplot(pipeline.generate_distribution(\"normal\", *stats[\"df2\"]), stat=\"probability\")"
   ]
  },
  {
   "cell_type": "markdown",
   "id": "08fa89e3-3faa-420a-b980-fdb311f0f394",
   "metadata": {},
   "source": [
    "### Dataset №3\n",
    "What the fuck"
   ]
  },
  {
   "cell_type": "code",
   "execution_count": 899,
   "id": "3f2a4e4e-98ef-4f9a-8ecf-52cf4797f32e",
   "metadata": {},
   "outputs": [
    {
     "data": {
      "text/html": [
       "<div>\n",
       "<style scoped>\n",
       "    .dataframe tbody tr th:only-of-type {\n",
       "        vertical-align: middle;\n",
       "    }\n",
       "\n",
       "    .dataframe tbody tr th {\n",
       "        vertical-align: top;\n",
       "    }\n",
       "\n",
       "    .dataframe thead th {\n",
       "        text-align: right;\n",
       "    }\n",
       "</style>\n",
       "<table border=\"1\" class=\"dataframe\">\n",
       "  <thead>\n",
       "    <tr style=\"text-align: right;\">\n",
       "      <th></th>\n",
       "      <th>ks_D</th>\n",
       "      <th>ks_h</th>\n",
       "      <th>ks_fit</th>\n",
       "      <th>chi_stat</th>\n",
       "      <th>chi_fit</th>\n",
       "    </tr>\n",
       "  </thead>\n",
       "  <tbody>\n",
       "    <tr>\n",
       "      <th>binomial</th>\n",
       "      <td>0.999899</td>\n",
       "      <td>0.409250</td>\n",
       "      <td>False</td>\n",
       "      <td>160.098262</td>\n",
       "      <td>False</td>\n",
       "    </tr>\n",
       "    <tr>\n",
       "      <th>poisson</th>\n",
       "      <td>0.999960</td>\n",
       "      <td>0.623940</td>\n",
       "      <td>False</td>\n",
       "      <td>28853.502527</td>\n",
       "      <td>False</td>\n",
       "    </tr>\n",
       "    <tr>\n",
       "      <th>uniform</th>\n",
       "      <td>0.169443</td>\n",
       "      <td>0.004736</td>\n",
       "      <td>False</td>\n",
       "      <td>30630.173782</td>\n",
       "      <td>False</td>\n",
       "    </tr>\n",
       "    <tr>\n",
       "      <th>normal</th>\n",
       "      <td>0.169443</td>\n",
       "      <td>0.004736</td>\n",
       "      <td>False</td>\n",
       "      <td>9007.780512</td>\n",
       "      <td>False</td>\n",
       "    </tr>\n",
       "    <tr>\n",
       "      <th>exponential</th>\n",
       "      <td>0.169443</td>\n",
       "      <td>0.004736</td>\n",
       "      <td>False</td>\n",
       "      <td>22.898240</td>\n",
       "      <td>True</td>\n",
       "    </tr>\n",
       "  </tbody>\n",
       "</table>\n",
       "</div>"
      ],
      "text/plain": [
       "                 ks_D      ks_h  ks_fit      chi_stat  chi_fit\n",
       "binomial     0.999899  0.409250   False    160.098262    False\n",
       "poisson      0.999960  0.623940   False  28853.502527    False\n",
       "uniform      0.169443  0.004736   False  30630.173782    False\n",
       "normal       0.169443  0.004736   False   9007.780512    False\n",
       "exponential  0.169443  0.004736   False     22.898240     True"
      ]
     },
     "metadata": {},
     "output_type": "display_data"
    }
   ],
   "source": [
    "display(df3_results)"
   ]
  },
  {
   "cell_type": "code",
   "execution_count": 900,
   "id": "45fc901d-df35-430d-8f84-329d47163030",
   "metadata": {},
   "outputs": [
    {
     "data": {
      "text/plain": [
       "<Axes: ylabel='Probability'>"
      ]
     },
     "execution_count": 900,
     "metadata": {},
     "output_type": "execute_result"
    },
    {
     "data": {
      "image/png": "[encoded data removed]",
      "text/plain": [
       "<Figure size 640x480 with 1 Axes>"
      ]
     },
     "metadata": {},
     "output_type": "display_data"
    }
   ],
   "source": [
    "sns.histplot(df3, stat=\"probability\")\n",
    "sns.histplot(pipeline.generate_distribution(\"exponential\", *stats[\"df3\"]), stat=\"probability\")"
   ]
  },
  {
   "cell_type": "code",
   "execution_count": null,
   "id": "93b35daf-ccb0-46da-a539-8c9d912fffc0",
   "metadata": {},
   "outputs": [],
   "source": []
  }
 ],
 "metadata": {
  "kernelspec": {
   "display_name": "Python 3 (ipykernel)",
   "language": "python",
   "name": "python3"
  },
  "language_info": {
   "codemirror_mode": {
    "name": "ipython",
    "version": 3
   },
   "file_extension": ".py",
   "mimetype": "text/x-python",
   "name": "python",
   "nbconvert_exporter": "python",
   "pygments_lexer": "ipython3",
   "version": "3.12.2"
  }
 },
 "nbformat": 4,
 "nbformat_minor": 5
}
